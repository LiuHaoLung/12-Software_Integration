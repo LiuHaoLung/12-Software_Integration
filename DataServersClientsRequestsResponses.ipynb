{
 "cells": [
  {
   "cell_type": "markdown",
   "metadata": {},
   "source": [
    "# Data, Servers, Clients, Requests, Responses"
   ]
  },
  {
   "cell_type": "markdown",
   "metadata": {},
   "source": [
    "Business world terms like API, software, data and servers are used so often that you might think everybody knows their definitions by heart.\n",
    "___\n",
    "\n",
    "#### Data\n",
    "\n",
    "Data means information stored in the form of symbols, like 1s and 0s, other digits, letters, special characters etc.\n",
    "\n",
    "Thus it can be collected, measured, analysed, processed further.\n",
    "\n",
    "Well this is not talking about physical books with thousands of written pages or the enormous accounting ledgers from the 60s, data today is stored practically in databases.\n",
    "\n",
    "The latter represent an electronic collection of data or a structure filled with information if you prefer.\n",
    "\n",
    "Organized in a way that is easy to access, manage and update and where our databases stored, in database servers.\n",
    "___\n",
    "\n",
    "#### Servers\n",
    "\n",
    "As a matter of face, server may be a misleading term for a newcomer since its definition can have a specific application in different scenarios.\n",
    "\n",
    "Theoretically a server is combination of hardware and software responsible for storing, managing and processing large amounts of data.\n",
    "\n",
    "The most common types are the web servers, database servers and FTP(Free transfer protocol) servers.\n",
    "\n",
    "These facilitate the transfer of web pages, database queries and files respectively, this all are different servers.\n",
    "___\n",
    "\n",
    "#### The clients-server model\n",
    "\n",
    "Otherwise an example of a scenario would be the client server model where sercers exist to respond to the request made by a client.\n",
    "\n",
    "This model works in the following way, a client requests a service from a server, for instance to have access to some data, in this example, the server is a piece of software that will provide this service for this specific amount of data to the client.\n",
    "\n",
    "Say you are about to request or pull information from a web server through a browser, the latter being the client in this example you can transmit your request to the server and in return obtain a response, also called reply.\n",
    "\n",
    "Moreover when we are talking about web servers and browsers you will obviously need an internet connection, alternatively local servers exist as well.\n",
    "\n",
    "Imagine the headquarters of a large company, employing thousands of people, of course a lot of information is stored on its servers and to access the information you need, you would have to use a cable connection.\n",
    "\n",
    "Howerver the data won't be stored on an average desktop computer as its capacity won't be sufficient to handle the processing of the vast amount of information requested by the employees.\n",
    "\n",
    "That's why specialized big machines that have much more powerful hardware design for storing huge amounts of data are being called servers too, another instance as the mail server which has been created to act as an electronic post office, it is a mixture of hardware and a software application again, the latter follows universally accepted standards for storing and exchanging e-mail messages and other data files such as text, image or multimedia."
   ]
  },
  {
   "cell_type": "code",
   "execution_count": null,
   "metadata": {},
   "outputs": [],
   "source": []
  }
 ],
 "metadata": {
  "kernelspec": {
   "display_name": "Python 3",
   "language": "python",
   "name": "python3"
  },
  "language_info": {
   "codemirror_mode": {
    "name": "ipython",
    "version": 3
   },
   "file_extension": ".py",
   "mimetype": "text/x-python",
   "name": "python",
   "nbconvert_exporter": "python",
   "pygments_lexer": "ipython3",
   "version": "3.7.4"
  }
 },
 "nbformat": 4,
 "nbformat_minor": 2
}
