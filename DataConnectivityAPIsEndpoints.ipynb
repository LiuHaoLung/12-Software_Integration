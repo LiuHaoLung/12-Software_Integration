{
 "cells": [
  {
   "cell_type": "markdown",
   "metadata": {},
   "source": [
    "# Data Connectivity, APIs, Endpoints"
   ]
  },
  {
   "cell_type": "markdown",
   "metadata": {},
   "source": [
    "#### Data connectivity\n",
    "\n",
    "Developing and maintaining data connectivity is one of the most important things of all, it is regards the ability to connect clients and sercers, securing the swift and voluminous transfer of information between them.\n",
    "\n",
    "Unprecedented amounts of data are being sent from servers to clients and vice verse, and if it wasn't for data connectivity this wouldn't have been possible.\n",
    "___\n",
    "\n",
    "#### APIs\n",
    "\n",
    "How can one connect information from multiple servers simultaneously? How is this data delivered to the clients?\n",
    "\n",
    "The simple answer is by using APIs, application progamming interfaces, APIs are the software tool that make this entire beautiful picture a reality.\n",
    "\n",
    "Technically an API is a connect allowing software to share data with each other, otherwise in simple words it lets devices and software applications communicate in real time.\n",
    "\n",
    "First remember an API is a type of an interface, what is interface, for instance a cooker or a TV set, obviously using inputs and devices capable of executing certain operations to produce outputs, the cooker uses electricity which is an input to heat up its oven the output while the TV sets uses electrictiy input for displaying a film the output, so this means devices are capable of executing specific functions.\n",
    "\n",
    "But how did the cooker and the TV sets relate to the outer world through interfaces or even more specifically through the endpoints of their interfaces.\n",
    "\n",
    "Application, often called just app, refers to a program designed to perform a specific set of operations for the end user, be it a person or another application.\n",
    "\n",
    "Instances of apps or web browsers, video, editing programs, database management, software and so on.\n",
    "\n",
    "Applications have a specific purpose and are able to carry out specific tasks, they have been designed for.\n",
    "\n",
    "Programming simply refers to the function the app performs, in other words it regards the process of converting inputs into outputs, therefore from a programming perspective, combining these two terms with everything we just said about interface means an API is namely the technology necessary to process requests from the clients to the servers and in response brings the requested data from the server.\n",
    "___\n",
    "\n",
    "#### Endpoints\n",
    "\n",
    "In the kitchen example, the cookers plug can be considered an endpoint of the cooker's interface while the electricity socket and in point of the power supply by connecting these two, electricity can flow from the power supply to the cooker which can then provides its function to heat up the oven.\n",
    "\n",
    "Hence the connectivity between the power supply and the cooker is realized by connecting their respective endpoints.\n",
    "\n",
    "The case of the TV set is even more interesting, look at the back panel of such a device, so many inputs from this interface and they are all endpoints, as various devices can be attached here.\n",
    "\n",
    "The left and the right channel of an audio system, a VGA screen and more, in addition the TV cables plug is another endpoints, as it goes to the power supply socket.\n",
    "___\n",
    "\n",
    "The situation in the digital world is an illogical, as we already said it to execute their inherent functions, software apps, in their capacity of clients need access to specific types of data contained in some servers.\n",
    "\n",
    "Adds some to this composition through, who are those using apps, people of other sofeware, they are there end uses, who is creating them, business developers and software engineers, namely the latter are the end users of the APIs which allow them to connect to the data servers.\n",
    "\n",
    "This means APIs are a collection of endpoints to which developers can attach and then extract specific information that can be used by those who are working with the apps.\n",
    "\n",
    "Furthermore don't think the people connect to such data servers just to retrieve Borghi datasets with text, numerical, values, audio or video files.\n",
    "\n",
    "Apart from access to such information, servers contain and provide specific software products too, the terms comprising the types of information you could obtain from a server is data assets.\n",
    "___\n",
    "\n",
    "#### Data assets\n",
    "\n",
    "The data asset in general is just data that is expected to have some value in the future, everyday examples include intellectual property such as a patents or a song you composed, you may obtain financial benefits from selling these assets later, as a consequence a database with thousands or records is another type of a data asset, one you could later use for analysis and deduct valuable insights which will improve your business in the future.\n",
    "\n",
    "Other instances are Web sites providing specific text information or pieces of code, therefore data assets are any forms of data or software related to the processing of information.\n",
    "\n"
   ]
  },
  {
   "cell_type": "code",
   "execution_count": null,
   "metadata": {},
   "outputs": [],
   "source": []
  }
 ],
 "metadata": {
  "kernelspec": {
   "display_name": "Python 3",
   "language": "python",
   "name": "python3"
  },
  "language_info": {
   "codemirror_mode": {
    "name": "ipython",
    "version": 3
   },
   "file_extension": ".py",
   "mimetype": "text/x-python",
   "name": "python",
   "nbconvert_exporter": "python",
   "pygments_lexer": "ipython3",
   "version": "3.7.4"
  }
 },
 "nbformat": 4,
 "nbformat_minor": 2
}
