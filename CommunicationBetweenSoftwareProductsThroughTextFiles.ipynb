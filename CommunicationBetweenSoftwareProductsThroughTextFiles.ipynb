{
 "cells": [
  {
   "cell_type": "markdown",
   "metadata": {},
   "source": [
    "# Communication Between Software Products Through Text Files"
   ]
  },
  {
   "cell_type": "markdown",
   "metadata": {},
   "source": [
    "Server, web server, database, APIs, applications all of those can be regarded as pieces of software with different functionalities.\n",
    "\n",
    "It is thanks to the advancement of data connectivity today that enormous amounts of information can be shared between them.\n",
    "\n",
    "Software can be written in any of the hundreds of programming languages out there, for instance it is one thing to type www.facebook.com into the browser which is just a software application for surfing the web, in this case your computer will send the requests through the internet to the Facebook server and will bring back Facebook's web page has a response.\n",
    "\n",
    "Instead when working with APIs, you don't use the web browser to ask a web server for a web page, you use a software application to request specific data from a server and this data will be returned in a text format.\n",
    "\n",
    "On a technical level, different pieces of software better referred to as software products communicate through text files, you might be sending tabular data or specific text but it is all or at least it can be converted into text by computers.\n",
    "\n",
    "More broadly speaking, it is turned into 1s and 0s, the most univerally accepted text file formats are .xml, .csv and .json, the three covered the same functionalities, so for simplicity we shall focus on .json which stands for javascript object notation.\n",
    "\n",
    "The .json is just an ordinary text file, if you imagine a list containing the number list = [1,2,5,10] in Python, the same list written in .json will be stored as a string.\n",
    "\n",
    "If you want to pull a data table from an SQL database stored on an external server and you want to extract it using Python, you'll need to write specific lines of Python code that will let you access data from the remote server through the servers API.\n",
    "\n",
    "The API will send the request to the server, and you'll receive a reply in a string format, for instance .json.\n",
    "\n",
    "Moreover don't think the code or the data in the database has been converted into .json entirely, only the requested, the message has been turned into the common text format.\n",
    "\n",
    "APIs maintain and develop the beautiful data connectivity picture through text, on the different node, APIs act like a messenger between the end user of the apps and the servers, there are like a gateway to the server or a bridge between the two pieces of software, in fact that's what interfaces do in general, they help you establish connections."
   ]
  },
  {
   "cell_type": "code",
   "execution_count": null,
   "metadata": {},
   "outputs": [],
   "source": []
  }
 ],
 "metadata": {
  "kernelspec": {
   "display_name": "Python 3",
   "language": "python",
   "name": "python3"
  },
  "language_info": {
   "codemirror_mode": {
    "name": "ipython",
    "version": 3
   },
   "file_extension": ".py",
   "mimetype": "text/x-python",
   "name": "python",
   "nbconvert_exporter": "python",
   "pygments_lexer": "ipython3",
   "version": "3.7.4"
  }
 },
 "nbformat": 4,
 "nbformat_minor": 2
}
