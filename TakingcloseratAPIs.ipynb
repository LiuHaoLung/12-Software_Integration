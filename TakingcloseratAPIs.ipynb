{
 "cells": [
  {
   "cell_type": "markdown",
   "metadata": {},
   "source": [
    "# Taking closer at APIs"
   ]
  },
  {
   "cell_type": "markdown",
   "metadata": {},
   "source": [
    "API acts like a gateway to the server which you as programmer can connect directly.\n",
    "\n",
    "Example there have news, comments, ratings, reviews in the database.\n",
    "\n",
    "An API is a collection of endpoints and they practically split its functionality into parts, one end point is about read its comments, another one about rating, a third one for news and so on.\n",
    "\n",
    "Therefore a programmer will match his code with the desired end point only.\n",
    "\n",
    "From a technical perspective the most amazing thing about API is that sometimes everything you can be accessed with the ease of writing just two lines of code, in fact this might sound like a fairy tale because it actually is almost.\n",
    "\n",
    "There are limitations to process your request, An API require maintenance and this naturally costs a certain amount of resources, furthermore security is a big problem for these interfaces, so the API must act as a filter that will prevent the system from malicious programmers and overloading while at the same time it guaranteening quality access to its users, finally lets not forget that you will most probably have private information on the server, thats why some services come at a certain monetary price and as a consequence using the API may sometimes cost and even be quite expensive.\n",
    "\n",
    "The reverse side, if you are maintaining an app and providing specific services to other apps or people, in certain cases you should build your own API on the server to improve the communication with them, that's another way in which good knowledge of API helps you share information with the rest of the world.\n",
    "\n",
    "Having the own interface helps you improve the functionality of the service you are offering, in addition you can charge customers a fee.\n",
    "\n",
    "Using APIs, saves enormous amounts of your time, provides access to numerous databases and is very efficient when delivering precisely the information you need."
   ]
  },
  {
   "cell_type": "code",
   "execution_count": null,
   "metadata": {},
   "outputs": [],
   "source": []
  }
 ],
 "metadata": {
  "kernelspec": {
   "display_name": "Python 3",
   "language": "python",
   "name": "python3"
  },
  "language_info": {
   "codemirror_mode": {
    "name": "ipython",
    "version": 3
   },
   "file_extension": ".py",
   "mimetype": "text/x-python",
   "name": "python",
   "nbconvert_exporter": "python",
   "pygments_lexer": "ipython3",
   "version": "3.7.4"
  }
 },
 "nbformat": 4,
 "nbformat_minor": 2
}
