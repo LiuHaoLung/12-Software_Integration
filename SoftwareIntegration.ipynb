{
 "cells": [
  {
   "cell_type": "markdown",
   "metadata": {},
   "source": [
    "# Software Integration"
   ]
  },
  {
   "cell_type": "markdown",
   "metadata": {},
   "source": [
    "#### Integration\n",
    "\n",
    "Integration is a rather vague term in programming, basically it wouldn't be wrong to say it has two main distinguishable meanings.\n",
    "\n",
    "The first one regards having a system, or an architecture, composed of a few different software products, various programming languages, or other pieces of softeware which can communicate with each ohter via APIs, or a commom API.\n",
    "\n",
    "The second meaning of the term integration is the more classical one which refers to a situation where multiple software products can be set up to work as one tool.\n",
    "\n",
    "The idea here is to enhance the functionality and the performance of an already existing application, thus solving a certain business problem quicker and more efficiently.\n",
    "\n",
    "Apart from the two distinct meanings we could say there's a third type of integration, it represents a mixture of the first two.\n",
    "\n",
    "Instance of software integration, imagine a piece of software that could store the data you have on a local level, another product that could use it to make calculations and a third one which could plot results beautifully, thus delivering the outcome of the research in a clear and easy to illustrate manner such as the case with SQL, Python and tableau, you can use SQL to organize, keep and manipulate the data and structure that can be sent over to Python for study, there can apply various statistical analysis tools to make predictions based on the current information, than tableau one of the most widely used tools for data visualization can use the obtained output to deliver meaningful representations, allows managers or executives to immediately spot the trends you have discovered or predicted it, this form of integration is somehow centralized and happens from the point of view of tableau.\n",
    "\n",
    "So what can we say about integrating SQL and tableau, we've reached the moment when we must explain the meaning of the term, driver, a software driver can drive a certain software product within another one, it is a piece of software too, however its function is to mediate between two products.\n",
    "\n",
    "How's that possible, isn't json a universally accepted format, how come Python and SQL will share the same type of code not just an ordinary text file, tableau has build in drivers that can read code which is native to other programming languages, in this case SQL, so through tableau you can execute SQL code and the drivers will help you apply the code you've written to the SQL database, you've been connected too, thus delivering you the desired data.\n",
    "\n",
    "Then using this data set and regarding the combination of tableau and Python instead of passing information through the respective APIs, it appears that the two software products communicate with each other by sharing the same code and functions through a common API.\n",
    "\n",
    "Python is one programming language, the tableau is a software written in another one C++, however the two software products can interact thanks to TabPy which is a type of API called a REST API from the perspective of tableau, TabPy server allows you to execute Python code remotely and on the fly thanks to a built-in driver, then you can use the obtained results in tableau, so different to using interfaces where information is being sent from point A to point B over an API in a certain text format.\n",
    "\n",
    "This type of integration involves multiple software products having a common API and built in drivers, each component of the SQL-Python-Tableau system can send information that is afterwards processed towards the ohter component that have drivers executing the foreign language code.\n",
    "\n",
    "In addition integration can happen online or locally, but in this example you need to think too much about that, just remember that tableau has built in drivers that may leave the user completely unaware of their existence, nevertheless they allow tableau to centralize the advantages of using SQL relations and Python computations to take the data from the database, apply state of the art analysis and then visualize the output in tableau."
   ]
  },
  {
   "cell_type": "code",
   "execution_count": null,
   "metadata": {},
   "outputs": [],
   "source": []
  }
 ],
 "metadata": {
  "kernelspec": {
   "display_name": "Python 3",
   "language": "python",
   "name": "python3"
  },
  "language_info": {
   "codemirror_mode": {
    "name": "ipython",
    "version": 3
   },
   "file_extension": ".py",
   "mimetype": "text/x-python",
   "name": "python",
   "nbconvert_exporter": "python",
   "pygments_lexer": "ipython3",
   "version": "3.7.4"
  }
 },
 "nbformat": 4,
 "nbformat_minor": 2
}
